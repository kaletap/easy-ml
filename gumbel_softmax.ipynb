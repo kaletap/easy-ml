{
 "cells": [
  {
   "cell_type": "markdown",
   "metadata": {},
   "source": [
    "# Gumbel Softmax\n",
    "## How to use GAN for sequences?\n",
    "\n",
    "In a gan notebook we explored how GAN's can be used to approximate some continuous distribution. At it's core there were a generator function $G$ (neural network) which took a random gaussian noise as an input and produced a vector of numbers (possibly of size one, as in our simple one-dimensional example) that resembled the ones coming from real data distribution. We can easily see how this can be applied to generate random images - we just let the network output the vector with the size of the image and train adversarially against a discriminator like usual.\n",
    "\n",
    "But what if we were intrested in taking this approach to generate text? Well, let's think for a moment. To generate this sequences we would need a generator. It can also take some random noise, and produce a sequence of numbers. We can take some ideas here from machine translation. The random noise could be the input to the recurrent neural network as a first hidden state - it would capture (possibly after some transformation with a feed-forward neural network) the meaning that we would like to encode in a sentence. In that way it could produce a bunch of output words until the stop token being generated. We would have to think about a solution to stop this solution from being too long at the beginning of training, but in general this seems like a plausible approach.\n",
    "\n",
    "What about the discriminator? It takes as an input what generator produces as an output. In this case it is a sequence of words, so the natural candidate for a discriminator is a recurrent neural network as well. The discriminator would then produce a number from 0 to 1, with 0 being certain that this is a good sample and 1 if certain that this is fake. We can also observe that for samples coming form real world distribution (real sentences) discriminator is simply a language model - it gives each sentence a probability.  So this is it, right?\n",
    "\n",
    "Wrong. What we didn't take into account how we are going to train this network. Well, this is obvious - with gradient descent. But let's keep in mind, that the loss for training generator is a value of discriminator (or it's function like logarithm, which doesn't change the point we are making): $L(\\theta_G) = D(G(z; \\theta_G))$. So in order to calculate the derivative we have to calculate $\\frac{\\partial}{\\partial \\theta_G} D(G(z; \\theta_G)) = \\frac{\\partial}{\\partial G}D(G) \\frac{\\partial}{\\partial \\theta_G} G$. It seems a little bit weird since $G$ is now a sequence of discrete elements from a vocabulary, what would it mean to differentiate by it? In the case of continuous values of discriminator it wasn't a problem, we could diffentiate by a value of an input just as we would differentiate with respect to weights. Here it is completely differrent - we cannot differentiate a function with a discrete input. That's like differentiating a sequence with respect to some natural number, doesn't make sense by definition.\n",
    "\n",
    "## Gumbel Softmax\n",
    "First, we will try to understand how Gumbel-Softmax works.\n",
    "\n",
    "https://anotherdatum.com/gumbel-gan.html"
   ]
  },
  {
   "cell_type": "code",
   "execution_count": 1,
   "metadata": {},
   "outputs": [],
   "source": [
    "import numpy as np\n",
    "import tensorflow as tf\n",
    "import matplotlib.pyplot as plt\n",
    "from tqdm.notebook import tqdm\n",
    "\n",
    "np.random.seed(42)\n",
    "tf.set_random_seed(42)\n",
    "\n",
    "%matplotlib inline"
   ]
  },
  {
   "cell_type": "code",
   "execution_count": 2,
   "metadata": {},
   "outputs": [],
   "source": [
    "BATCHS_IN_EPOCH = 100\n",
    "BATCH_SIZE = 10\n",
    "EPOCHS = 200  # the stream is infinite so one epoch will be defined as BATCHS_IN_EPOCH * BATCH_SIZE\n",
    "GENERATOR_TRAINING_FACTOR = 10  # for every training of the disctiminator we'll train the generator 10 times\n",
    "LEARNING_RATE = 0.0007\n",
    "TEMPERATURE = 0.001  # we use a constant, but for harder problems we should anneal it"
   ]
  },
  {
   "cell_type": "code",
   "execution_count": 3,
   "metadata": {},
   "outputs": [
    {
     "name": "stdout",
     "output_type": "stream",
     "text": [
      "WARNING:tensorflow:From /home/przemyslaw/.local/lib/python3.6/site-packages/tensorflow/python/data/ops/dataset_ops.py:494: py_func (from tensorflow.python.ops.script_ops) is deprecated and will be removed in a future version.\n",
      "Instructions for updating:\n",
      "tf.py_func is deprecated in TF V2. Instead, there are two\n",
      "    options available in V2.\n",
      "    - tf.py_function takes a python function which manipulates tf eager\n",
      "    tensors instead of numpy arrays. It's easy to convert a tf eager tensor to\n",
      "    an ndarray (just call tensor.numpy()) but having access to eager tensors\n",
      "    means `tf.py_function`s can use accelerators such as GPUs as well as\n",
      "    being differentiable using a gradient tape.\n",
      "    - tf.numpy_function maintains the semantics of the deprecated tf.py_func\n",
      "    (it is not differentiable, and manipulates numpy arrays). It drops the\n",
      "    stateful argument making all functions stateful.\n",
      "    \n",
      "WARNING:tensorflow:From <ipython-input-3-152a3296e076>:20: DatasetV1.make_one_shot_iterator (from tensorflow.python.data.ops.dataset_ops) is deprecated and will be removed in a future version.\n",
      "Instructions for updating:\n",
      "Use `for ... in dataset:` to iterate over a dataset. If using `tf.estimator`, return the `Dataset` object directly from your input function. As a last resort, you can use `tf.compat.v1.data.make_one_shot_iterator(dataset)`.\n"
     ]
    }
   ],
   "source": [
    "# Creating Dataset\n",
    "\n",
    "number_to_prob = {\n",
    "    0: 0.0,\n",
    "    1: 0.2,\n",
    "    2: 0.1,\n",
    "    3: 0.1,\n",
    "    4: 0.6\n",
    "}\n",
    "\n",
    "\n",
    "def generate_text():\n",
    "    while True:\n",
    "        yield np.random.choice(list(number_to_prob.keys()), p=list(number_to_prob.values()), size=1)\n",
    "\n",
    "        \n",
    "dataset = tf.data.Dataset.from_generator(generate_text,\n",
    "                                         output_types=tf.int32,\n",
    "                                         output_shapes=1).batch(BATCH_SIZE)\n",
    "value = dataset.make_one_shot_iterator().get_next()\n",
    "value = tf.one_hot(value, len(number_to_prob))\n",
    "value = tf.squeeze(value, axis=1)"
   ]
  },
  {
   "cell_type": "code",
   "execution_count": 4,
   "metadata": {},
   "outputs": [],
   "source": [
    "def generator():\n",
    "    with tf.variable_scope('generator'):\n",
    "        logits = tf.get_variable('logits', initializer=tf.ones([len(number_to_prob)]))\n",
    "        gumbel_dist = tf.contrib.distributions.RelaxedOneHotCategorical(TEMPERATURE, logits=logits)\n",
    "        probs = tf.nn.softmax(logits)\n",
    "        generated = gumbel_dist.sample(BATCH_SIZE)\n",
    "        return generated, probs"
   ]
  },
  {
   "cell_type": "code",
   "execution_count": 5,
   "metadata": {},
   "outputs": [],
   "source": [
    "def discriminator(x):\n",
    "    with tf.variable_scope('discriminator', reuse=tf.AUTO_REUSE):\n",
    "        return tf.contrib.layers.fully_connected(x,\n",
    "                                                 num_outputs=1,\n",
    "                                                 activation_fn=None)"
   ]
  },
  {
   "cell_type": "code",
   "execution_count": 6,
   "metadata": {},
   "outputs": [
    {
     "name": "stdout",
     "output_type": "stream",
     "text": [
      "WARNING:tensorflow:\n",
      "The TensorFlow contrib module will not be included in TensorFlow 2.0.\n",
      "For more information, please see:\n",
      "  * https://github.com/tensorflow/community/blob/master/rfcs/20180907-contrib-sunset.md\n",
      "  * https://github.com/tensorflow/addons\n",
      "  * https://github.com/tensorflow/io (for I/O related ops)\n",
      "If you depend on functionality not listed there, please file an issue.\n",
      "\n",
      "WARNING:tensorflow:From <ipython-input-4-79eac1dab741>:4: RelaxedOneHotCategorical.__init__ (from tensorflow.contrib.distributions.python.ops.relaxed_onehot_categorical) is deprecated and will be removed after 2018-10-01.\n",
      "Instructions for updating:\n",
      "The TensorFlow Distributions library has moved to TensorFlow Probability (https://github.com/tensorflow/probability). You should update all references to use `tfp.distributions` instead of `tf.contrib.distributions`.\n",
      "WARNING:tensorflow:From /home/przemyslaw/.local/lib/python3.6/site-packages/tensorflow/contrib/distributions/python/ops/relaxed_onehot_categorical.py:427: ExpRelaxedOneHotCategorical.__init__ (from tensorflow.contrib.distributions.python.ops.relaxed_onehot_categorical) is deprecated and will be removed after 2018-10-01.\n",
      "Instructions for updating:\n",
      "The TensorFlow Distributions library has moved to TensorFlow Probability (https://github.com/tensorflow/probability). You should update all references to use `tfp.distributions` instead of `tf.contrib.distributions`.\n",
      "WARNING:tensorflow:From /home/przemyslaw/.local/lib/python3.6/site-packages/tensorflow/contrib/distributions/python/ops/relaxed_onehot_categorical.py:214: Distribution.__init__ (from tensorflow.python.ops.distributions.distribution) is deprecated and will be removed after 2019-01-01.\n",
      "Instructions for updating:\n",
      "The TensorFlow Distributions library has moved to TensorFlow Probability (https://github.com/tensorflow/probability). You should update all references to use `tfp.distributions` instead of `tf.distributions`.\n",
      "WARNING:tensorflow:From /home/przemyslaw/.local/lib/python3.6/site-packages/tensorflow/contrib/distributions/python/ops/relaxed_onehot_categorical.py:429: Exp.__init__ (from tensorflow.contrib.distributions.python.ops.bijectors.exp) is deprecated and will be removed after 2018-10-01.\n",
      "Instructions for updating:\n",
      "The TensorFlow Distributions library has moved to TensorFlow Probability (https://github.com/tensorflow/probability). You should update all references to use `tfp.distributions` instead of `tf.contrib.distributions`.\n",
      "WARNING:tensorflow:From /home/przemyslaw/.local/lib/python3.6/site-packages/tensorflow/contrib/distributions/python/ops/bijectors/exp.py:73: PowerTransform.__init__ (from tensorflow.contrib.distributions.python.ops.bijectors.power_transform) is deprecated and will be removed after 2018-10-01.\n",
      "Instructions for updating:\n",
      "The TensorFlow Distributions library has moved to TensorFlow Probability (https://github.com/tensorflow/probability). You should update all references to use `tfp.distributions` instead of `tf.contrib.distributions`.\n",
      "WARNING:tensorflow:From /home/przemyslaw/.local/lib/python3.6/site-packages/tensorflow/contrib/distributions/python/ops/relaxed_onehot_categorical.py:430: TransformedDistribution.__init__ (from tensorflow.python.ops.distributions.transformed_distribution) is deprecated and will be removed after 2019-01-01.\n",
      "Instructions for updating:\n",
      "The TensorFlow Distributions library has moved to TensorFlow Probability (https://github.com/tensorflow/probability). You should update all references to use `tfp.distributions` instead of `tf.distributions`.\n",
      "WARNING:tensorflow:From /home/przemyslaw/.local/lib/python3.6/site-packages/tensorflow/contrib/distributions/python/ops/relaxed_onehot_categorical.py:266: div (from tensorflow.python.ops.math_ops) is deprecated and will be removed in a future version.\n",
      "Instructions for updating:\n",
      "Deprecated in favor of operator or tf.math.divide.\n",
      "WARNING:tensorflow:Entity <bound method Dense.call of <tensorflow.python.layers.core.Dense object at 0x7f114140c9b0>> could not be transformed and will be executed as-is. Please report this to the AutgoGraph team. When filing the bug, set the verbosity to 10 (on Linux, `export AUTOGRAPH_VERBOSITY=10`) and attach the full output. Cause: converting <bound method Dense.call of <tensorflow.python.layers.core.Dense object at 0x7f114140c9b0>>: AssertionError: Bad argument number for Name: 3, expecting 4\n",
      "WARNING: Entity <bound method Dense.call of <tensorflow.python.layers.core.Dense object at 0x7f114140c9b0>> could not be transformed and will be executed as-is. Please report this to the AutgoGraph team. When filing the bug, set the verbosity to 10 (on Linux, `export AUTOGRAPH_VERBOSITY=10`) and attach the full output. Cause: converting <bound method Dense.call of <tensorflow.python.layers.core.Dense object at 0x7f114140c9b0>>: AssertionError: Bad argument number for Name: 3, expecting 4\n",
      "WARNING:tensorflow:Entity <bound method Dense.call of <tensorflow.python.layers.core.Dense object at 0x7f114140cb00>> could not be transformed and will be executed as-is. Please report this to the AutgoGraph team. When filing the bug, set the verbosity to 10 (on Linux, `export AUTOGRAPH_VERBOSITY=10`) and attach the full output. Cause: converting <bound method Dense.call of <tensorflow.python.layers.core.Dense object at 0x7f114140cb00>>: AssertionError: Bad argument number for Name: 3, expecting 4\n",
      "WARNING: Entity <bound method Dense.call of <tensorflow.python.layers.core.Dense object at 0x7f114140cb00>> could not be transformed and will be executed as-is. Please report this to the AutgoGraph team. When filing the bug, set the verbosity to 10 (on Linux, `export AUTOGRAPH_VERBOSITY=10`) and attach the full output. Cause: converting <bound method Dense.call of <tensorflow.python.layers.core.Dense object at 0x7f114140cb00>>: AssertionError: Bad argument number for Name: 3, expecting 4\n",
      "WARNING:tensorflow:From /home/przemyslaw/.local/lib/python3.6/site-packages/tensorflow/python/ops/nn_impl.py:180: add_dispatch_support.<locals>.wrapper (from tensorflow.python.ops.array_ops) is deprecated and will be removed in a future version.\n",
      "Instructions for updating:\n",
      "Use tf.where in 2.0, which has the same broadcast rule as np.where\n"
     ]
    }
   ],
   "source": [
    "generated_outputs, generated_probs = generator()\n",
    "discriminated_real = discriminator(value)\n",
    "discriminated_generated = discriminator(generated_outputs)\n",
    "\n",
    "d_loss_real = tf.reduce_mean(\n",
    "    tf.nn.sigmoid_cross_entropy_with_logits(logits=discriminated_real,\n",
    "                                            labels=tf.ones_like(discriminated_real)))\n",
    "d_loss_fake = tf.reduce_mean(\n",
    "    tf.nn.sigmoid_cross_entropy_with_logits(logits=discriminated_generated,\n",
    "                                            labels=tf.zeros_like(discriminated_generated)))\n",
    "d_loss = d_loss_real + d_loss_fake\n",
    "\n",
    "g_loss = tf.reduce_mean(\n",
    "    tf.nn.sigmoid_cross_entropy_with_logits(logits=discriminated_generated,\n",
    "                                            labels=tf.ones_like(discriminated_generated)))\n",
    "\n",
    "all_vars = tf.trainable_variables()\n",
    "g_vars = [var for var in all_vars if var.name.startswith('generator')]\n",
    "d_vars = [var for var in all_vars if var.name.startswith('discriminator')]\n",
    "\n",
    "d_train_opt = tf.train.AdamOptimizer(LEARNING_RATE).minimize(d_loss, var_list=d_vars)\n",
    "g_train_opt = tf.train.AdamOptimizer(LEARNING_RATE).minimize(g_loss, var_list=g_vars)"
   ]
  },
  {
   "cell_type": "code",
   "execution_count": 7,
   "metadata": {},
   "outputs": [
    {
     "data": {
      "application/vnd.jupyter.widget-view+json": {
       "model_id": "9134b2cceee24ad88abf5400b6a89933",
       "version_major": 2,
       "version_minor": 0
      },
      "text/plain": [
       "HBox(children=(FloatProgress(value=0.0, max=200.0), HTML(value='')))"
      ]
     },
     "metadata": {},
     "output_type": "display_data"
    },
    {
     "name": "stdout",
     "output_type": "stream",
     "text": [
      "\n"
     ]
    }
   ],
   "source": [
    "with tf.Session() as sess:\n",
    "    sess.run(tf.global_variables_initializer())\n",
    "    learned_probs = []\n",
    "    for _ in tqdm(range(EPOCHS)):\n",
    "        for _ in range(BATCHS_IN_EPOCH):\n",
    "            sess.run(d_train_opt)\n",
    "            for _ in range(GENERATOR_TRAINING_FACTOR):\n",
    "                sess.run(g_train_opt)\n",
    "        learned_probs.append(sess.run(generated_probs))"
   ]
  },
  {
   "cell_type": "code",
   "execution_count": 21,
   "metadata": {},
   "outputs": [
    {
     "data": {
      "image/png": "[encoded data removed]",
      "text/plain": [
       "<Figure size 720x144 with 2 Axes>"
      ]
     },
     "metadata": {
      "needs_background": "light"
     },
     "output_type": "display_data"
    }
   ],
   "source": [
    "plt.figure(figsize=(10, 2))\n",
    "prob_errors = [np.array(learned_prob) - np.array(list(number_to_prob.values()))\n",
    "               for learned_prob in learned_probs]\n",
    "plt.imshow(np.transpose(prob_errors),\n",
    "           cmap='bwr',\n",
    "           aspect='auto',\n",
    "           vmin=-2,\n",
    "           vmax=2)\n",
    "plt.xlabel('epoch')\n",
    "plt.ylabel('number')\n",
    "plt.colorbar(aspect=10, ticks=[-2, 0, 2]);"
   ]
  }
 ],
 "metadata": {
  "kernelspec": {
   "display_name": "Python 3",
   "language": "python",
   "name": "python3"
  },
  "language_info": {
   "codemirror_mode": {
    "name": "ipython",
    "version": 3
   },
   "file_extension": ".py",
   "mimetype": "text/x-python",
   "name": "python",
   "nbconvert_exporter": "python",
   "pygments_lexer": "ipython3",
   "version": "3.6.9"
  }
 },
 "nbformat": 4,
 "nbformat_minor": 4
}
