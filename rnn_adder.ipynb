{
 "cells": [
  {
   "cell_type": "markdown",
   "metadata": {},
   "source": [
    "# Can RNNs add numbers together?"
   ]
  },
  {
   "cell_type": "code",
   "execution_count": 195,
   "metadata": {},
   "outputs": [],
   "source": [
    "import torch\n",
    "import torch.nn as nn\n",
    "import torch.nn.functional as F\n",
    "import torch.optim as optim\n",
    "from torch.utils.data import Dataset\n",
    "from torch.utils.data import DataLoader\n",
    "\n",
    "import numpy as np\n",
    "import matplotlib.pyplot as plt\n",
    "from tqdm.notebook import trange\n",
    "\n",
    "RANDOM_SEED = 42\n",
    "torch.manual_seed(RANDOM_SEED);"
   ]
  },
  {
   "cell_type": "code",
   "execution_count": 196,
   "metadata": {},
   "outputs": [],
   "source": [
    "class AdderSet(Dataset):\n",
    "    def __init__(self, n_observations, seq_len):\n",
    "        self.x = torch.randn((n_observations, seq_len, 1))\n",
    "        self.y = torch.sum(self.x, axis=1)\n",
    "        self.n = n_observations\n",
    "    \n",
    "    def __getitem__(self, i):\n",
    "        return self.x[i], self.y[i]\n",
    "    \n",
    "    def __len__(self):\n",
    "        return self.n"
   ]
  },
  {
   "cell_type": "code",
   "execution_count": 197,
   "metadata": {},
   "outputs": [
    {
     "data": {
      "text/plain": [
       "torch.Size([32, 3, 1])"
      ]
     },
     "execution_count": 197,
     "metadata": {},
     "output_type": "execute_result"
    }
   ],
   "source": [
    "n = 100_000\n",
    "p = 3\n",
    "trainset = AdderSet(n, p)\n",
    "trainloader = DataLoader(trainset, batch_size=32)\n",
    "\n",
    "testset = AdderSet(n, p)\n",
    "testloader = DataLoader(trainset, batch_size=n)\n",
    "\n",
    "next(iter(trainloader))[0].shape"
   ]
  },
  {
   "cell_type": "code",
   "execution_count": 228,
   "metadata": {},
   "outputs": [],
   "source": [
    "class Adder(nn.Module):\n",
    "    def __init__(self, p):\n",
    "        super().__init__()\n",
    "        self.p = p\n",
    "        self.hidden_size = 16\n",
    "        self.lstm = nn.LSTM(1, hidden_size=self.hidden_size, batch_first=True)\n",
    "        self.linear = nn.Sequential(\n",
    "            nn.ReLU(),\n",
    "            nn.Linear(self.hidden_size, 1)\n",
    "        )\n",
    "        \n",
    "    def forward(self, x):\n",
    "        hs, _ = self.lstm(x)\n",
    "        h = hs[:, -1, :]  # Taking the last element as a representation of LSTM\n",
    "        y = self.linear(h)\n",
    "        return y"
   ]
  },
  {
   "cell_type": "code",
   "execution_count": 234,
   "metadata": {},
   "outputs": [],
   "source": [
    "adder = Adder(p)\n",
    "\n",
    "def fit(adder, verbose=True):\n",
    "    # Training loop\n",
    "    criterion = nn.MSELoss()\n",
    "    lr = 0.01\n",
    "    optimizer = optim.Adam(adder.parameters(), lr=lr)\n",
    "\n",
    "    losses = []\n",
    "\n",
    "    n_epochs = 3\n",
    "\n",
    "    for epoch in trange(n_epochs):\n",
    "        for x, y in trainloader:\n",
    "            optimizer.zero_grad()\n",
    "            y_pred = adder(x)\n",
    "            loss = criterion(y, y_pred)\n",
    "            loss.backward()\n",
    "            optimizer.step()\n",
    "            losses.append(loss.item())\n",
    "\n",
    "    if verbose:\n",
    "        plt.plot(losses)\n",
    "        plt.xlabel(\"iteration\")\n",
    "        plt.ylabel(\"MSE loss\");\n",
    "        plt.show()"
   ]
  },
  {
   "cell_type": "code",
   "execution_count": 235,
   "metadata": {},
   "outputs": [
    {
     "data": {
      "application/vnd.jupyter.widget-view+json": {
       "model_id": "5871cc7bc0a64dcfb0b57e4123b57508",
       "version_major": 2,
       "version_minor": 0
      },
      "text/plain": [
       "HBox(children=(FloatProgress(value=0.0, max=3.0), HTML(value='')))"
      ]
     },
     "metadata": {},
     "output_type": "display_data"
    },
    {
     "name": "stdout",
     "output_type": "stream",
     "text": [
      "\n"
     ]
    },
    {
     "data": {
      "image/png": "[encoded data removed]",
      "text/plain": [
       "<Figure size 432x288 with 1 Axes>"
      ]
     },
     "metadata": {
      "needs_background": "light"
     },
     "output_type": "display_data"
    }
   ],
   "source": [
    "fit(adder)"
   ]
  },
  {
   "cell_type": "code",
   "execution_count": 236,
   "metadata": {},
   "outputs": [
    {
     "name": "stdout",
     "output_type": "stream",
     "text": [
      "tensor(8.5805e-05)\n"
     ]
    }
   ],
   "source": [
    "adder.eval()\n",
    "with torch.no_grad():\n",
    "    for x, y in testloader:\n",
    "        y_pred = adder(x)\n",
    "        loss = criterion(y, y_pred)\n",
    "print(loss.item())"
   ]
  },
  {
   "cell_type": "markdown",
   "metadata": {},
   "source": [
    "As we see, LSTM learned how to add with reasonable degreee of accuracy."
   ]
  },
  {
   "cell_type": "code",
   "execution_count": 237,
   "metadata": {},
   "outputs": [
    {
     "data": {
      "text/plain": [
       "0.006837010383605957"
      ]
     },
     "execution_count": 237,
     "metadata": {},
     "output_type": "execute_result"
    }
   ],
   "source": [
    "x = [0, 0, 0]\n",
    "x = torch.tensor([0, 0, 0]).float().view(1, 3, 1)\n",
    "adder(x).item()"
   ]
  },
  {
   "cell_type": "markdown",
   "metadata": {},
   "source": [
    "However, let's see what happens for number out of normal range."
   ]
  },
  {
   "cell_type": "code",
   "execution_count": 238,
   "metadata": {},
   "outputs": [
    {
     "data": {
      "text/plain": [
       "6.822782039642334"
      ]
     },
     "execution_count": 238,
     "metadata": {},
     "output_type": "execute_result"
    }
   ],
   "source": [
    "x = torch.tensor([3, 3, 3]).float().view(1, 3, 1)\n",
    "adder(x).item()"
   ]
  },
  {
   "cell_type": "markdown",
   "metadata": {},
   "source": [
    "We already see some weird things going on."
   ]
  },
  {
   "cell_type": "code",
   "execution_count": 239,
   "metadata": {},
   "outputs": [
    {
     "data": {
      "image/png": "[encoded data removed]",
      "text/plain": [
       "<Figure size 432x288 with 1 Axes>"
      ]
     },
     "metadata": {
      "needs_background": "light"
     },
     "output_type": "display_data"
    }
   ],
   "source": [
    "xs = np.linspace(-10, 10, 1000)\n",
    "ys_true = 3*xs\n",
    "ys_pred = []\n",
    "for value in xs:\n",
    "    x = torch.tensor([value for _ in range(3)]).float().view(1, 3, 1)\n",
    "    with torch.no_grad():\n",
    "        ys_pred.append(adder(x).item())\n",
    "\n",
    "plt.plot(xs, ys, label=\"predicted\")\n",
    "plt.plot(xs, ys_true, linewidth=0.4, label=\"true\")\n",
    "plt.xlabel(\"x\")\n",
    "plt.ylabel(\"3x\")\n",
    "plt.title(\"RNN prediction\")\n",
    "plt.legend();"
   ]
  },
  {
   "cell_type": "markdown",
   "metadata": {},
   "source": [
    "---\n",
    "#### Taknig mean of hidden states instead of using just last state"
   ]
  },
  {
   "cell_type": "code",
   "execution_count": 242,
   "metadata": {},
   "outputs": [],
   "source": [
    "class Adder(nn.Module):\n",
    "    def __init__(self, p):\n",
    "        super().__init__()\n",
    "        self.p = p\n",
    "        self.hidden_size = 16\n",
    "        self.lstm = nn.LSTM(1, hidden_size=self.hidden_size, batch_first=True)\n",
    "        self.linear = nn.Sequential(\n",
    "            nn.ReLU(),\n",
    "            nn.Linear(self.hidden_size, 1)\n",
    "        )\n",
    "        \n",
    "    def forward(self, x):\n",
    "        hs, _ = self.lstm(x)\n",
    "        h = torch.mean(hs, axis=1)  # Taking a mean of hidden states as a representation\n",
    "        y = self.linear(h)\n",
    "        return y"
   ]
  },
  {
   "cell_type": "code",
   "execution_count": 243,
   "metadata": {},
   "outputs": [
    {
     "data": {
      "application/vnd.jupyter.widget-view+json": {
       "model_id": "0b162ccf3da94833a18ac34be47ad496",
       "version_major": 2,
       "version_minor": 0
      },
      "text/plain": [
       "HBox(children=(FloatProgress(value=0.0, max=3.0), HTML(value='')))"
      ]
     },
     "metadata": {},
     "output_type": "display_data"
    },
    {
     "name": "stdout",
     "output_type": "stream",
     "text": [
      "\n"
     ]
    },
    {
     "data": {
      "image/png": "[encoded data removed]",
      "text/plain": [
       "<Figure size 432x288 with 1 Axes>"
      ]
     },
     "metadata": {
      "needs_background": "light"
     },
     "output_type": "display_data"
    }
   ],
   "source": [
    "adder = Adder(3)\n",
    "fit(adder)"
   ]
  },
  {
   "cell_type": "code",
   "execution_count": 245,
   "metadata": {},
   "outputs": [
    {
     "data": {
      "image/png": "[encoded data removed]",
      "text/plain": [
       "<Figure size 432x288 with 1 Axes>"
      ]
     },
     "metadata": {
      "needs_background": "light"
     },
     "output_type": "display_data"
    }
   ],
   "source": [
    "xs = np.linspace(-10, 10, 1000)\n",
    "ys_true = 3*xs\n",
    "ys_pred = []\n",
    "for value in xs:\n",
    "    x = torch.tensor([value for _ in range(3)]).float().view(1, 3, 1)\n",
    "    with torch.no_grad():\n",
    "        ys_pred.append(adder(x).item())\n",
    "\n",
    "plt.plot(xs, ys, label=\"predicted\")\n",
    "plt.plot(xs, ys_true, linewidth=0.4, label=\"true\")\n",
    "plt.xlabel(\"x\")\n",
    "plt.ylabel(\"3x\")\n",
    "plt.title(\"RNN prediction\")\n",
    "plt.legend();"
   ]
  },
  {
   "cell_type": "markdown",
   "metadata": {},
   "source": [
    "It didn't change anything."
   ]
  }
 ],
 "metadata": {
  "kernelspec": {
   "display_name": "Python 3",
   "language": "python",
   "name": "python3"
  },
  "language_info": {
   "codemirror_mode": {
    "name": "ipython",
    "version": 3
   },
   "file_extension": ".py",
   "mimetype": "text/x-python",
   "name": "python",
   "nbconvert_exporter": "python",
   "pygments_lexer": "ipython3",
   "version": "3.6.9"
  }
 },
 "nbformat": 4,
 "nbformat_minor": 4
}
