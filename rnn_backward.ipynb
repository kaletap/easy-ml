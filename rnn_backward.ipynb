{
 "cells": [
  {
   "cell_type": "markdown",
   "metadata": {},
   "source": [
    "# Training of recurrent neural networks\n",
    "\n",
    "In `rnn_forward` notebook I examined how recurrent neural network is constructed. Now, we know exactly how the computations are done when we feed RNN (vanila or LSTM) a sequence of vectors. However, I skipped the part of actual training. In this notebook I will describe how it can be done.\n",
    "\n",
    "## Forward computation\n",
    "First, let's recall how recurrent neural network works. First, we have a list (sequence) of vectors $xs$. Based on that we would like to predict $y$ as some function of $xs$. We can try do it, because we also have data of pairs (xs, y) when we actually observe true $y$. Because of that we can try to build a model.\n",
    "```\n",
    "hidden_state = np.zeros([1, HIDDEN_STATE_DIM])\n",
    "for i in range(len(xs)):\n",
    "    hidden_state = nonlinearity(xs[i].dot(W_xh) + hidden_state.dot(W_hh) + bias_h)\n",
    "y = softmax(hidden_state.dot(W_hy) + bias_y)\n",
    "```\n",
    "We can say, that the code above is a recurrent neural network. W_xh, W_hh, W_hy, bias_h and bias_y are parameters of the network. Of course we have to find them in order to make this RNN useful for actually predicting true $y$.\n",
    "\n",
    "## Loss function\n",
    "### A little bit of mathematics\n",
    "In our model we say the expected value of our $y$ is $ h(\\mathbb{E}[y|x]) = f_{W_{xh}, W_{hh}, W_{hy}}(x)$ (in some cases, like binary classification we may estimate probability $\\mathbb{P}(y = 1)$, but note that it's still an expected value of $y$). This is called a *systematic component*. The $h$ function here is used for convenience to map expected value of $y$ to real numbers, in the case of regression it is simply $h(x) = x$. Also, we assume that $y|x$ follows some distribution (we refer to it as *random component*. The form of this distribution depends first of all on the character of $y$ (is it's real, positive or maybe discrete). For example for a binary variable, the distribution has to Bernoulli, but for a case of real variables there are many distributions to choose from. In this case, the form of the distribution may be choose for convenience (normal), or if we know that there are some outliers observed we may choose distribution with heavier tails (like t-student). \n",
    "\n",
    "Once we know (assume) the distribution of $y$, there is a classic statistical way to fit a model: maximize the likelihood. It is a most used approach in a case of fitting parameters of the model. In the case of normal distribution ($f(x) \\sim \\mathcal{N}(f(x, \\sigma)$), maximizing likelihood comes down to minimizing mean squared error ($\\frac{1}{N} \\sum_{i=1}^N (f(x_i) - y_i)^2$) - and that's probably one of the reasons it is so widely used. In the case of classification we maximize log likelihood: $\\sum_{i=1}^N [y_i \\log(f(x_i)) + (1-y_i) \\log(1-f(x_i))]$.\n",
    "\n",
    "Let's take generalized linear models (GLM) for example. In this setting $x$ is a single vector, and $f$ is a function of linear combination of it's components ($f(x) = h(w^T x))$. The random component is a distribution from exponential family with a parameter (expected value) dependent on this combination.\n",
    "\n",
    "Of course the GLM models even though they are called \"general\", are in fact very restricted. The biggest restriction here is the fact that we have to model $f$ as a linear function. Even though we may choose to include some non-linear functions of predictors as predictors, it is not really convenient and it is not obvious what non-linearities to include.\n",
    "\n",
    "This restriction is not necesary at all. We may choose to use any $f$ here. One common choice is a neural network. It still works, but it comes with one disadvantage: now the loss function is not convex (TODO: show that). For GLMs it was and that meant that optimization methods like Newton-Rhapson or gradient descent converged easily to unique minimum. This means that fitting GLMs, there are many reliable packages to do so and their reliabilty is due to ease of optimization. For neural networks we don't have this luxury: loss functions are non-convex, which means difficulty in optimizing, fitting neural networks involves more work and a lot of research had to be done in order to make it work. Even now, with many useful packages you have to know a little bit about how they work and how gradient descent works in order to use them. But in general, from statistical perspective it is quite similar. Of course computing statistics of parameters and their distributions and thus hypotheses testing becomes much more difficult, but this has to be done to increase predictive power, which is often the main thing people care about.\n",
    "\n",
    "### A loss function in practice\n",
    "\n",
    "For regression task we define loss function as $L = \\frac{1}{N} \\sum_{i=1}^N (\\hat{y}_i - y_i)^2$, for binary classification as $L =\\sum_{i=1}^N [y_i \\log(\\hat{y}_i) + (1-y_i) \\log(1-\\hat{y}_i)]$, where $\\hat{y} = f(x)$ is a predicted value of $y$. \n",
    "\n",
    "## Optimization\n",
    "A loss function, for examplpe $L = \\frac{1}{N} \\sum_{i=1}^N (\\hat{y}_i - y_i)^2$ is dependent on $\\hat{y} = f(x)$ and we know that $f$ depends on matrices $W$ and biases $b$. Thus, it's a function of parameters $W_{xh}$, $W_{hh}$, $W_{hy}$, $b_h$ and $b_y$. It all comes down to optimization now and the main way people do optimization is gradient descent methods based on calculating gradients of function. It works because of the observation, that gradient is also the direction of steepest ascent of a function in local neighborhood of a function. Thus, it suffices to compute derivatives of $L$ with respect to parameters. It is not that easy to do, but it's tractable because $L$ (like neural network itself) is a composite function, build from simpler terms (like matrix multiplication and point-wise non-linear functions. Thus, we can compute such function, but modern frameworks like pytorch make use of automatic differentiation. We can then builid models as such composite functions made from pieces and the framework worries about computing derivatives. Pytorch here is remarkably flexible, because it actually builds model on the fly, when the python code is executed (of course it comes with some disadvanteges, but most researchers and especially mathematicians don't have reasons to worry about them). \n",
    "\n",
    "To see the power of automatic differentiation let's consider a simple example. Let $w$ be some real number. Consider function $z(w) = \\log(w^2)$ and define $y(w) = w^2$ and $z(y) = \\log(y)$. Suppose we want to compute $\\frac{\\partial}{\\partial w} z(w)$. In order to do it, we would have to manually compute the derivative using chain rule: $\\frac{\\partial}{\\partial w} z(w) = \\frac{1}{w^2} 2w = \\frac{2}{w}$. Pytorch however, knows the derivative of both logarithm and square, and that let's it compute deriatives of arbitrary functions composed from such operations. All we have to do, is call `backward` method on a variable representing the final function $z$."
   ]
  },
  {
   "cell_type": "code",
   "execution_count": 201,
   "metadata": {},
   "outputs": [
    {
     "data": {
      "text/plain": [
       "tensor([1.])"
      ]
     },
     "execution_count": 201,
     "metadata": {},
     "output_type": "execute_result"
    }
   ],
   "source": [
    "import torch\n",
    "import torch.optim as optim\n",
    "import numpy as np\n",
    "import matplotlib.pyplot as plt; plt.style.use(\"fivethirtyeight\")\n",
    "from tqdm.notebook import trange\n",
    "\n",
    "# Automatic differentiation example\n",
    "w = torch.tensor([2.], requires_grad=True)\n",
    "y = w**2\n",
    "z = torch.log(y)\n",
    "z.backward()\n",
    "w.grad"
   ]
  },
  {
   "cell_type": "code",
   "execution_count": 230,
   "metadata": {},
   "outputs": [
    {
     "data": {
      "image/png": "[encoded data removed]",
      "text/plain": [
       "<Figure size 432x288 with 1 Axes>"
      ]
     },
     "metadata": {},
     "output_type": "display_data"
    }
   ],
   "source": [
    "n = 1000\n",
    "ws = torch.linspace(0.05, 2, n, requires_grad=True)\n",
    "ys = ws**2\n",
    "zs = torch.log(ys)\n",
    "zs.backward(torch.ones([n]))  # note on gradient argument of backward method: https://stackoverflow.com/questions/43451125/pytorch-what-are-the-gradient-arguments\n",
    "plt.plot(ws.detach(), ws.grad)\n",
    "plt.title(\"Derivative of z\");"
   ]
  },
  {
   "cell_type": "markdown",
   "metadata": {},
   "source": [
    "It doesn't seem like much, but pytorch can also calculate derivatives of function with many arguments (like matrices), and having complicated, multidimensional operations in the middle and we don't have to worry about it.\n",
    "\n",
    "Having gradients of the function, we can easily do optimization, either updating parameters directly or (more often) doing it via pytroch's optimizer."
   ]
  },
  {
   "cell_type": "markdown",
   "metadata": {},
   "source": [
    "## Training recurrent neural networks\n",
    "\n",
    "### Data"
   ]
  },
  {
   "cell_type": "code",
   "execution_count": 234,
   "metadata": {},
   "outputs": [],
   "source": [
    "def get_random_vector_sequence(vector_size: int):\n",
    "    \"\"\"Generates random sequence of vectors.\"\"\"\n",
    "    n_elements = np.random.poisson(5) + 1\n",
    "    # Vectors are in rows, there is random number of vectors\n",
    "    return torch.randn([n_elements, vector_size])\n",
    "\n",
    "def get_x(n_samples: int, vector_size):\n",
    "    \"\"\"Generate random observations of sequences of vectors.\"\"\"\n",
    "    x_train = []\n",
    "    for _ in range(n_samples):\n",
    "        x_train.append(get_random_vector_sequence(vector_size))\n",
    "    return x_train\n",
    "\n",
    "def predict_y(xs: np.ndarray, *, sd=0.001):\n",
    "    \"\"\"\n",
    "    True y based on sequence xs. \n",
    "    We could come up with various functinos and rules to compute y and see if RNN is able to learn it.\n",
    "    It can allow us to test long-term dependencies and forgetting, which is important when evaluating RNN performance.\n",
    "    \"\"\"\n",
    "    y = 0\n",
    "    for i, x in enumerate(xs):\n",
    "        y += sum(np.abs(x))  # what if we do not add absolute value here?\n",
    "    return torch.tensor([y + np.random.normal(0, sd)])"
   ]
  },
  {
   "cell_type": "code",
   "execution_count": 237,
   "metadata": {},
   "outputs": [],
   "source": [
    "# Getting data\n",
    "n = 10_000\n",
    "x_train = get_x(n, X_DIM)\n",
    "y_true = torch.cat([predict_y(xs) for xs in x_train])"
   ]
  },
  {
   "cell_type": "code",
   "execution_count": 238,
   "metadata": {},
   "outputs": [
    {
     "data": {
      "text/plain": [
       "(tensor([[-1.0510, -0.4686,  1.1756],\n",
       "         [-1.6150,  0.4921, -1.3205],\n",
       "         [ 0.1388, -0.7810,  0.0683],\n",
       "         [-1.1469,  0.3412,  0.8841],\n",
       "         [-1.3166, -0.4765,  0.6845],\n",
       "         [ 0.8155, -0.2828,  1.4551],\n",
       "         [-0.0427,  1.4307,  1.4279],\n",
       "         [ 0.0925,  0.9884, -0.4703],\n",
       "         [-0.8826, -0.6227, -0.0624],\n",
       "         [ 0.9124,  0.3043, -0.0774],\n",
       "         [ 1.6227,  0.6351,  0.3727]]),\n",
       " tensor([24.4599]),\n",
       " tensor(3.2249))"
      ]
     },
     "execution_count": 238,
     "metadata": {},
     "output_type": "execute_result"
    }
   ],
   "source": [
    "xs = x_train[0]\n",
    "xs, predict_y(xs), torch.sum(xs)"
   ]
  },
  {
   "cell_type": "markdown",
   "metadata": {},
   "source": [
    "### Operations on tensors"
   ]
  },
  {
   "cell_type": "code",
   "execution_count": 249,
   "metadata": {},
   "outputs": [],
   "source": [
    "X_DIM = 3\n",
    "HIDDEN_DIM = 4\n",
    "OUTPUT_DIM = 1\n",
    "SD = 1e-2\n",
    "\n",
    "# Note: SD * torch.randn([HIDDEN_DIM, X_DIM], requires_grad=True) won't work, because then W would be non-leaf variable \n",
    "# (created after some operation on tensor that requires grad)\n",
    "W_xh = torch.empty([HIDDEN_DIM, X_DIM]).normal_(0, SD).requires_grad_()\n",
    "W_hh = torch.empty([HIDDEN_DIM, HIDDEN_DIM]).normal_(0, SD).requires_grad_()\n",
    "W_hy = torch.empty([OUTPUT_DIM, HIDDEN_DIM]).normal_(0, SD).requires_grad_()\n",
    "b_h = torch.empty([HIDDEN_DIM, 1]).normal_(0, SD).requires_grad_()\n",
    "b_y = torch.empty([OUTPUT_DIM, 1]).normal_(0, SD).requires_grad_()\n",
    "\n",
    "parameters = (W_xh, W_hh, W_hy, b_h, b_y)\n",
    "\n",
    "def nonlinearity(x):\n",
    "    return torch.where(x > 0, x, torch.zeros_like(x))\n",
    "\n",
    "def forward(xs):\n",
    "    hidden_state = torch.zeros([HIDDEN_DIM, 1])\n",
    "    for x in xs:\n",
    "        x = x.reshape(-1, 1)\n",
    "        hidden_state = nonlinearity(W_xh @ x + W_hh @ hidden_state + b_h)\n",
    "    y = W_hy @ hidden_state + b_y\n",
    "    return y\n",
    "\n",
    "def batch_forward(x_train):\n",
    "    y_pred = []\n",
    "    for xs in x_train:\n",
    "        y = forward(xs)\n",
    "        y_pred.append(y)\n",
    "    return torch.cat(y_pred)  # we have to make it a tensor in order for gradients to flow"
   ]
  },
  {
   "cell_type": "code",
   "execution_count": 250,
   "metadata": {},
   "outputs": [],
   "source": [
    "losses = []"
   ]
  },
  {
   "cell_type": "code",
   "execution_count": 251,
   "metadata": {},
   "outputs": [],
   "source": [
    "optimizer = optim.Adam(parameters, lr=0.1)"
   ]
  },
  {
   "cell_type": "code",
   "execution_count": 278,
   "metadata": {},
   "outputs": [
    {
     "data": {
      "application/vnd.jupyter.widget-view+json": {
       "model_id": "aff7cae628d64e9fbbcf945379705542",
       "version_major": 2,
       "version_minor": 0
      },
      "text/plain": [
       "HBox(children=(FloatProgress(value=0.0, max=50.0), HTML(value='')))"
      ]
     },
     "metadata": {},
     "output_type": "display_data"
    },
    {
     "name": "stdout",
     "output_type": "stream",
     "text": [
      "\n"
     ]
    }
   ],
   "source": [
    "# Training RNN\n",
    "n_iter = 50\n",
    "for _ in trange(n_iter):\n",
    "    optimizer.zero_grad()\n",
    "    y_pred = batch_forward(x_train)\n",
    "#     print(\"First predicted value: {:.4f}\".format(y_pred[0].item()))\n",
    "    # Calculating loss\n",
    "    loss = torch.mean((y_pred - y_true)**2)\n",
    "    # Optimizing\n",
    "    loss.backward()\n",
    "    optimizer.step()\n",
    "    losses.append(loss.item())\n",
    "#     print(\"Current loss: {:.4f}\".format(loss.item()))"
   ]
  },
  {
   "cell_type": "code",
   "execution_count": 279,
   "metadata": {},
   "outputs": [
    {
     "data": {
      "image/png": "[encoded data removed]",
      "text/plain": [
       "<Figure size 432x288 with 1 Axes>"
      ]
     },
     "metadata": {},
     "output_type": "display_data"
    }
   ],
   "source": [
    "plt.plot(losses)\n",
    "plt.xlabel(\"iterations\")\n",
    "plt.ylabel(\"loss\");"
   ]
  },
  {
   "cell_type": "code",
   "execution_count": 280,
   "metadata": {},
   "outputs": [
    {
     "data": {
      "text/plain": [
       "5.946132127204198"
      ]
     },
     "execution_count": 280,
     "metadata": {},
     "output_type": "execute_result"
    }
   ],
   "source": [
    "loss.item()**0.5"
   ]
  },
  {
   "cell_type": "code",
   "execution_count": 281,
   "metadata": {},
   "outputs": [
    {
     "data": {
      "text/plain": [
       "tensor(5.8443)"
      ]
     },
     "execution_count": 281,
     "metadata": {},
     "output_type": "execute_result"
    }
   ],
   "source": [
    "torch.mean((y_true - y_true.mean())**2)**0.5"
   ]
  },
  {
   "cell_type": "markdown",
   "metadata": {},
   "source": [
    "## Evaluation"
   ]
  },
  {
   "cell_type": "code",
   "execution_count": 292,
   "metadata": {},
   "outputs": [
    {
     "data": {
      "text/plain": [
       "(5.884444236755371, 5.989275932312012)"
      ]
     },
     "execution_count": 292,
     "metadata": {},
     "output_type": "execute_result"
    }
   ],
   "source": [
    "x_test = get_x(10_000, X_DIM)\n",
    "y_true_test = torch.cat([predict_y(xs) for xs in x_test])\n",
    "data_error = torch.mean((y_true_test - y_true_test.mean())**2)**0.5\n",
    "\n",
    "y_pred_test = batch_forward(x_test)\n",
    "test_error = torch.mean((y_pred_test - y_true_test)**2)**0.5\n",
    "\n",
    "data_error.item(), test_error.item()"
   ]
  },
  {
   "cell_type": "markdown",
   "metadata": {},
   "source": [
    "## Summary\n",
    "I wasn't very successful in training a recurrent neural network for a simple regression task. I think it would be worth it to come back to it later and analyze this exmple a little bit more. However, I think that the main ideas presented here were correct and this notebook may help in understanding inner workings of recurrent neural network."
   ]
  }
 ],
 "metadata": {
  "kernelspec": {
   "display_name": "Python 3",
   "language": "python",
   "name": "python3"
  },
  "language_info": {
   "codemirror_mode": {
    "name": "ipython",
    "version": 3
   },
   "file_extension": ".py",
   "mimetype": "text/x-python",
   "name": "python",
   "nbconvert_exporter": "python",
   "pygments_lexer": "ipython3",
   "version": "3.6.9"
  }
 },
 "nbformat": 4,
 "nbformat_minor": 4
}
