{
 "cells": [
  {
   "cell_type": "markdown",
   "metadata": {},
   "source": [
    "# Censored data\n",
    "## Bayesian networks vs standard AFT models\n",
    "\n",
    "We will examine data with censored values: for some observations we know the time that passed before the event, for others we know that event didn't ocurred before that time, but could have occurred later. \n",
    "\n",
    "The traditional way of doing analysis with such data is Survival Analysis: in particular we can use Kaplan Meier curves, the best non-parametric estimate of survival function."
   ]
  },
  {
   "cell_type": "code",
   "execution_count": 63,
   "metadata": {},
   "outputs": [],
   "source": [
    "import pandas as pd\n",
    "import numpy as np\n",
    "import matplotlib.pyplot as plt; plt.style.use(\"fivethirtyeight\")\n",
    "import seaborn as sns\n",
    "import pymc3 as pm\n",
    "\n",
    "from sklearn.linear_model import LinearRegression\n",
    "from lifelines import KaplanMeierFitter, WeibullAFTFitter, LogNormalAFTFitter"
   ]
  },
  {
   "cell_type": "code",
   "execution_count": 2,
   "metadata": {},
   "outputs": [
    {
     "data": {
      "text/html": [
       "<div>\n",
       "<style scoped>\n",
       "    .dataframe tbody tr th:only-of-type {\n",
       "        vertical-align: middle;\n",
       "    }\n",
       "\n",
       "    .dataframe tbody tr th {\n",
       "        vertical-align: top;\n",
       "    }\n",
       "\n",
       "    .dataframe thead th {\n",
       "        text-align: right;\n",
       "    }\n",
       "</style>\n",
       "<table border=\"1\" class=\"dataframe\">\n",
       "  <thead>\n",
       "    <tr style=\"text-align: right;\">\n",
       "      <th></th>\n",
       "      <th>intens</th>\n",
       "      <th>time</th>\n",
       "      <th>vomit</th>\n",
       "    </tr>\n",
       "  </thead>\n",
       "  <tbody>\n",
       "    <tr>\n",
       "      <th>0</th>\n",
       "      <td>1.0</td>\n",
       "      <td>30.0</td>\n",
       "      <td>1.0</td>\n",
       "    </tr>\n",
       "    <tr>\n",
       "      <th>1</th>\n",
       "      <td>1.0</td>\n",
       "      <td>50.0</td>\n",
       "      <td>1.0</td>\n",
       "    </tr>\n",
       "    <tr>\n",
       "      <th>2</th>\n",
       "      <td>1.0</td>\n",
       "      <td>50.0</td>\n",
       "      <td>0.0</td>\n",
       "    </tr>\n",
       "    <tr>\n",
       "      <th>3</th>\n",
       "      <td>1.0</td>\n",
       "      <td>51.0</td>\n",
       "      <td>1.0</td>\n",
       "    </tr>\n",
       "    <tr>\n",
       "      <th>4</th>\n",
       "      <td>1.0</td>\n",
       "      <td>66.0</td>\n",
       "      <td>0.0</td>\n",
       "    </tr>\n",
       "  </tbody>\n",
       "</table>\n",
       "</div>"
      ],
      "text/plain": [
       "   intens  time  vomit\n",
       "0     1.0  30.0    1.0\n",
       "1     1.0  50.0    1.0\n",
       "2     1.0  50.0    0.0\n",
       "3     1.0  51.0    1.0\n",
       "4     1.0  66.0    0.0"
      ]
     },
     "execution_count": 2,
     "metadata": {},
     "output_type": "execute_result"
    }
   ],
   "source": [
    "data = pd.read_stata(\"data/seasick_eng_data.dta\")\n",
    "data.head()"
   ]
  },
  {
   "cell_type": "code",
   "execution_count": 3,
   "metadata": {},
   "outputs": [
    {
     "data": {
      "text/plain": [
       "<matplotlib.axes._subplots.AxesSubplot at 0x7f3b0fc63160>"
      ]
     },
     "execution_count": 3,
     "metadata": {},
     "output_type": "execute_result"
    },
    {
     "data": {
      "image/png": "[encoded data removed]",
      "text/plain": [
       "<Figure size 432x288 with 1 Axes>"
      ]
     },
     "metadata": {},
     "output_type": "display_data"
    }
   ],
   "source": [
    "kmf = KaplanMeierFitter()\n",
    "kmf.fit(data.time, data.vomit)\n",
    "kmf.plot()"
   ]
  },
  {
   "cell_type": "code",
   "execution_count": 4,
   "metadata": {},
   "outputs": [
    {
     "data": {
      "text/html": [
       "<div>\n",
       "<style scoped>\n",
       "    .dataframe tbody tr th:only-of-type {\n",
       "        vertical-align: middle;\n",
       "    }\n",
       "\n",
       "    .dataframe tbody tr th {\n",
       "        vertical-align: top;\n",
       "    }\n",
       "\n",
       "    .dataframe thead th {\n",
       "        text-align: right;\n",
       "    }\n",
       "</style>\n",
       "<table border=\"1\" class=\"dataframe\">\n",
       "  <thead>\n",
       "    <tr style=\"text-align: right;\">\n",
       "      <th></th>\n",
       "      <th>x</th>\n",
       "      <th>y</th>\n",
       "    </tr>\n",
       "  </thead>\n",
       "  <tbody>\n",
       "    <tr>\n",
       "      <th>0</th>\n",
       "      <td>-1.085631</td>\n",
       "      <td>-3.005719</td>\n",
       "    </tr>\n",
       "    <tr>\n",
       "      <th>1</th>\n",
       "      <td>0.997345</td>\n",
       "      <td>4.000000</td>\n",
       "    </tr>\n",
       "    <tr>\n",
       "      <th>2</th>\n",
       "      <td>0.282978</td>\n",
       "      <td>2.567086</td>\n",
       "    </tr>\n",
       "    <tr>\n",
       "      <th>3</th>\n",
       "      <td>-1.506295</td>\n",
       "      <td>-4.518265</td>\n",
       "    </tr>\n",
       "    <tr>\n",
       "      <th>4</th>\n",
       "      <td>-0.578600</td>\n",
       "      <td>-0.260902</td>\n",
       "    </tr>\n",
       "  </tbody>\n",
       "</table>\n",
       "</div>"
      ],
      "text/plain": [
       "          x         y\n",
       "0 -1.085631 -3.005719\n",
       "1  0.997345  4.000000\n",
       "2  0.282978  2.567086\n",
       "3 -1.506295 -4.518265\n",
       "4 -0.578600 -0.260902"
      ]
     },
     "execution_count": 4,
     "metadata": {},
     "output_type": "execute_result"
    }
   ],
   "source": [
    "data = pd.read_csv(\"data/censored_dat.csv\")\n",
    "data.head()"
   ]
  },
  {
   "cell_type": "markdown",
   "metadata": {},
   "source": [
    "## Censored data with constant censoring threshold \n",
    "\n",
    "Now consider a case when we have some **observed variable** (like age) and the outcome $y$ which could be censored. In this case we will consider censoring all observations higher than $4$."
   ]
  },
  {
   "cell_type": "code",
   "execution_count": 98,
   "metadata": {},
   "outputs": [
    {
     "data": {
      "image/png": "[encoded data removed]",
      "text/plain": [
       "<Figure size 432x288 with 1 Axes>"
      ]
     },
     "metadata": {},
     "output_type": "display_data"
    }
   ],
   "source": [
    "cens = pd.read_csv(\"data/censored_dat.csv\")\n",
    "x_obs = cens[\"x\"].values\n",
    "y_obs = cens[\"y\"].values\n",
    "\n",
    "ln = LinearRegression()\n",
    "ln.fit(x_obs.reshape(-1, 1), y_obs)\n",
    "y_pred = ln.predict(x_obs.reshape(-1, 1))\n",
    "\n",
    "plt.scatter(x_obs, y_obs)\n",
    "plt.plot(x_obs, y_pred, color=\"red\", label=\"Simple linear regression\")\n",
    "plt.legend()\n",
    "plt.title(\"Data\");"
   ]
  },
  {
   "cell_type": "markdown",
   "metadata": {},
   "source": [
    "We clearly see the bias in the data. Observations with $y$ higher than $4$ are censored and set to $4$ automatically. This could be for example a sensor that measures some value only to a certain point. Obviosuly if we know that such mechanism occurrs in our data there is no point in ignoring that. These observations could have been much larger than 4. One way to solve this problem would be to simply ignore these observations. That would probably work here (especially for simple linear regression), but it would be stupid for more general types of censoring. In the most extreme case, we could have a clinical trial with a group in which one patient died very quickly, but the rest of them lived so the are censored. If we threw away their observation we would be doing reasoning about quality of the drug based only on one patient who died right away. Alsoif the relationship wasn't linear but was some more complicated function where $y$ could be bigger than $4$ in multiple intervals, we wouldn't be able to reason about some intervals of $x$ after throwing away parts of the data.\n",
    "\n",
    "## Bayesian model\n",
    "Since we know that the mechanism of censoring occurs, and also know how, we can model that with random variables. The universal tool for that is a bayesian network in which we describe the process how data is generated, condition on observed data and then reason about unknown variables. In our case these unknown variables are the balues of $y$ for $y>4$ and coefficients of a linear regression (since we are using baesian model we say that coefficient are random variables as well and follow some prior distribution)."
   ]
  },
  {
   "cell_type": "code",
   "execution_count": 9,
   "metadata": {},
   "outputs": [
    {
     "data": {
      "image/svg+xml": [
       "<?xml version=\"1.0\" encoding=\"UTF-8\" standalone=\"no\"?>\n",
       "<!DOCTYPE svg PUBLIC \"-//W3C//DTD SVG 1.1//EN\"\n",
       " \"http://www.w3.org/Graphics/SVG/1.1/DTD/svg11.dtd\">\n",
       "<!-- Generated by graphviz version 2.40.1 (20161225.0304)\n",
       " -->\n",
       "<!-- Title: %3 Pages: 1 -->\n",
       "<svg width=\"520pt\" height=\"243pt\"\n",
       " viewBox=\"0.00 0.00 519.79 243.00\" xmlns=\"http://www.w3.org/2000/svg\" xmlns:xlink=\"http://www.w3.org/1999/xlink\">\n",
       "<g id=\"graph0\" class=\"graph\" transform=\"scale(1 1) rotate(0) translate(4 239)\">\n",
       "<title>%3</title>\n",
       "<polygon fill=\"#ffffff\" stroke=\"transparent\" points=\"-4,4 -4,-239 515.7889,-239 515.7889,4 -4,4\"/>\n",
       "<g id=\"clust1\" class=\"cluster\">\n",
       "<title>cluster1,000</title>\n",
       "<path fill=\"none\" stroke=\"#000000\" d=\"M167.7935,-8C167.7935,-8 263.7935,-8 263.7935,-8 269.7935,-8 275.7935,-14 275.7935,-20 275.7935,-20 275.7935,-215 275.7935,-215 275.7935,-221 269.7935,-227 263.7935,-227 263.7935,-227 167.7935,-227 167.7935,-227 161.7935,-227 155.7935,-221 155.7935,-215 155.7935,-215 155.7935,-20 155.7935,-20 155.7935,-14 161.7935,-8 167.7935,-8\"/>\n",
       "<text text-anchor=\"middle\" x=\"252.2935\" y=\"-15.8\" font-family=\"Times,serif\" font-size=\"14.00\" fill=\"#000000\">1,000</text>\n",
       "</g>\n",
       "<!-- sigma -->\n",
       "<g id=\"node1\" class=\"node\">\n",
       "<title>sigma</title>\n",
       "<ellipse fill=\"none\" stroke=\"#000000\" cx=\"72.7935\" cy=\"-201\" rx=\"72.5877\" ry=\"18\"/>\n",
       "<text text-anchor=\"middle\" x=\"72.7935\" y=\"-197.3\" font-family=\"Times,serif\" font-size=\"14.00\" fill=\"#000000\">sigma ~ Uniform</text>\n",
       "</g>\n",
       "<!-- z -->\n",
       "<g id=\"node5\" class=\"node\">\n",
       "<title>z</title>\n",
       "<ellipse fill=\"none\" stroke=\"#000000\" cx=\"215.7935\" cy=\"-129\" rx=\"51.9908\" ry=\"18\"/>\n",
       "<text text-anchor=\"middle\" x=\"215.7935\" y=\"-125.3\" font-family=\"Times,serif\" font-size=\"14.00\" fill=\"#000000\">z ~ Normal</text>\n",
       "</g>\n",
       "<!-- sigma&#45;&gt;z -->\n",
       "<g id=\"edge1\" class=\"edge\">\n",
       "<title>sigma&#45;&gt;z</title>\n",
       "<path fill=\"none\" stroke=\"#000000\" d=\"M104.8855,-184.8418C126.3084,-174.0555 154.5952,-159.8132 177.2395,-148.4118\"/>\n",
       "<polygon fill=\"#000000\" stroke=\"#000000\" points=\"178.8874,-151.5008 186.2452,-143.8775 175.7394,-145.2485 178.8874,-151.5008\"/>\n",
       "</g>\n",
       "<!-- b -->\n",
       "<g id=\"node2\" class=\"node\">\n",
       "<title>b</title>\n",
       "<ellipse fill=\"none\" stroke=\"#000000\" cx=\"337.7935\" cy=\"-201\" rx=\"51.9908\" ry=\"18\"/>\n",
       "<text text-anchor=\"middle\" x=\"337.7935\" y=\"-197.3\" font-family=\"Times,serif\" font-size=\"14.00\" fill=\"#000000\">b ~ Normal</text>\n",
       "</g>\n",
       "<!-- b&#45;&gt;z -->\n",
       "<g id=\"edge3\" class=\"edge\">\n",
       "<title>b&#45;&gt;z</title>\n",
       "<path fill=\"none\" stroke=\"#000000\" d=\"M311.3214,-185.3771C293.6556,-174.9514 270.2292,-161.1259 250.9966,-149.7756\"/>\n",
       "<polygon fill=\"#000000\" stroke=\"#000000\" points=\"252.6051,-146.6608 242.2141,-144.5924 249.0472,-152.6893 252.6051,-146.6608\"/>\n",
       "</g>\n",
       "<!-- a -->\n",
       "<g id=\"node3\" class=\"node\">\n",
       "<title>a</title>\n",
       "<ellipse fill=\"none\" stroke=\"#000000\" cx=\"459.7935\" cy=\"-201\" rx=\"51.9908\" ry=\"18\"/>\n",
       "<text text-anchor=\"middle\" x=\"459.7935\" y=\"-197.3\" font-family=\"Times,serif\" font-size=\"14.00\" fill=\"#000000\">a ~ Normal</text>\n",
       "</g>\n",
       "<!-- a&#45;&gt;z -->\n",
       "<g id=\"edge4\" class=\"edge\">\n",
       "<title>a&#45;&gt;z</title>\n",
       "<path fill=\"none\" stroke=\"#000000\" d=\"M420.0477,-189.2717C377.7761,-176.7981 310.8437,-157.0476 265.2063,-143.5808\"/>\n",
       "<polygon fill=\"#000000\" stroke=\"#000000\" points=\"266.1041,-140.1966 255.5224,-140.7233 264.123,-146.9104 266.1041,-140.1966\"/>\n",
       "</g>\n",
       "<!-- x -->\n",
       "<g id=\"node4\" class=\"node\">\n",
       "<title>x</title>\n",
       "<ellipse fill=\"#d3d3d3\" stroke=\"#000000\" cx=\"215.7935\" cy=\"-201\" rx=\"51.9908\" ry=\"18\"/>\n",
       "<text text-anchor=\"middle\" x=\"215.7935\" y=\"-197.3\" font-family=\"Times,serif\" font-size=\"14.00\" fill=\"#000000\">x ~ Normal</text>\n",
       "</g>\n",
       "<!-- x&#45;&gt;z -->\n",
       "<g id=\"edge2\" class=\"edge\">\n",
       "<title>x&#45;&gt;z</title>\n",
       "<path fill=\"none\" stroke=\"#000000\" d=\"M215.7935,-182.8314C215.7935,-175.131 215.7935,-165.9743 215.7935,-157.4166\"/>\n",
       "<polygon fill=\"#000000\" stroke=\"#000000\" points=\"219.2936,-157.4132 215.7935,-147.4133 212.2936,-157.4133 219.2936,-157.4132\"/>\n",
       "</g>\n",
       "<!-- y -->\n",
       "<g id=\"node6\" class=\"node\">\n",
       "<title>y</title>\n",
       "<ellipse fill=\"#d3d3d3\" stroke=\"#000000\" cx=\"215.7935\" cy=\"-57\" rx=\"51.9908\" ry=\"18\"/>\n",
       "<text text-anchor=\"middle\" x=\"215.7935\" y=\"-53.3\" font-family=\"Times,serif\" font-size=\"14.00\" fill=\"#000000\">y ~ Normal</text>\n",
       "</g>\n",
       "<!-- z&#45;&gt;y -->\n",
       "<g id=\"edge5\" class=\"edge\">\n",
       "<title>z&#45;&gt;y</title>\n",
       "<path fill=\"none\" stroke=\"#000000\" d=\"M215.7935,-110.8314C215.7935,-103.131 215.7935,-93.9743 215.7935,-85.4166\"/>\n",
       "<polygon fill=\"#000000\" stroke=\"#000000\" points=\"219.2936,-85.4132 215.7935,-75.4133 212.2936,-85.4133 219.2936,-85.4132\"/>\n",
       "</g>\n",
       "</g>\n",
       "</svg>\n"
      ],
      "text/plain": [
       "<graphviz.dot.Digraph at 0x7f3b087924a8>"
      ]
     },
     "execution_count": 9,
     "metadata": {},
     "output_type": "execute_result"
    }
   ],
   "source": [
    "n_obs = x_obs.size\n",
    "theta = 4\n",
    "with pm.Model() as censored_linear_regression:\n",
    "  a = pm.distributions.Normal(\"a\", 1, sd=100)\n",
    "  b = pm.distributions.Normal(\"b\", 1, sd=100)\n",
    "  # useless distribution (could be constant, because this is something we observe anyway)\n",
    "  x = pm.distributions.Normal(\"x\", 0, sd=1, \n",
    "                              shape=n_obs,\n",
    "                              observed=x_obs)\n",
    "  sigma = pm.distributions.Uniform(\"sigma\", 0, 100)\n",
    "  z = pm.distributions.Normal(\"z\", a * x + b, sigma, shape=n_obs)\n",
    "  y = pm.math.switch(z < theta, z, theta)\n",
    "  # Just some random noise needed for a sampling to work\n",
    "  y_ = pm.distributions.Normal(\"y\", y, 1e-2, observed=y_obs)\n",
    "\n",
    "pm.model_to_graphviz(censored_linear_regression)"
   ]
  },
  {
   "cell_type": "markdown",
   "metadata": {},
   "source": [
    "In this model we have some initial data $x$ that we observe. Then this $x$, combined with the knowledge of parameters of linear regression (which we also model as random variables) tells us what is the value of $z$. But there is also the mechanism of censoring, so we don't observe $z$, but a truncated $y$ instead. \n",
    "\n",
    "Let's see how this works in practice and what are the estimated values."
   ]
  },
  {
   "cell_type": "code",
   "execution_count": 10,
   "metadata": {},
   "outputs": [
    {
     "name": "stderr",
     "output_type": "stream",
     "text": [
      "Auto-assigning NUTS sampler...\n",
      "Initializing NUTS using jitter+adapt_diag...\n",
      "Multiprocess sampling (4 chains in 4 jobs)\n",
      "NUTS: [z, sigma, b, a]\n",
      "Sampling 4 chains, 0 divergences: 100%|██████████| 10000/10000 [05:13<00:00, 31.94draws/s]\n"
     ]
    }
   ],
   "source": [
    "with censored_linear_regression:\n",
    "  sample = pm.sample(draws=2000)"
   ]
  },
  {
   "cell_type": "code",
   "execution_count": 11,
   "metadata": {},
   "outputs": [
    {
     "data": {
      "text/html": [
       "<div>\n",
       "<style scoped>\n",
       "    .dataframe tbody tr th:only-of-type {\n",
       "        vertical-align: middle;\n",
       "    }\n",
       "\n",
       "    .dataframe tbody tr th {\n",
       "        vertical-align: top;\n",
       "    }\n",
       "\n",
       "    .dataframe thead th {\n",
       "        text-align: right;\n",
       "    }\n",
       "</style>\n",
       "<table border=\"1\" class=\"dataframe\">\n",
       "  <thead>\n",
       "    <tr style=\"text-align: right;\">\n",
       "      <th></th>\n",
       "      <th>mean</th>\n",
       "      <th>sd</th>\n",
       "      <th>hpd_3%</th>\n",
       "      <th>hpd_97%</th>\n",
       "      <th>mcse_mean</th>\n",
       "      <th>mcse_sd</th>\n",
       "      <th>ess_mean</th>\n",
       "      <th>ess_sd</th>\n",
       "      <th>ess_bulk</th>\n",
       "      <th>ess_tail</th>\n",
       "      <th>r_hat</th>\n",
       "    </tr>\n",
       "  </thead>\n",
       "  <tbody>\n",
       "    <tr>\n",
       "      <th>a</th>\n",
       "      <td>2.987</td>\n",
       "      <td>0.038</td>\n",
       "      <td>2.918</td>\n",
       "      <td>3.060</td>\n",
       "      <td>0.0</td>\n",
       "      <td>0.0</td>\n",
       "      <td>8042.0</td>\n",
       "      <td>8034.0</td>\n",
       "      <td>8044.0</td>\n",
       "      <td>6472.0</td>\n",
       "      <td>1.0</td>\n",
       "    </tr>\n",
       "    <tr>\n",
       "      <th>b</th>\n",
       "      <td>1.018</td>\n",
       "      <td>0.033</td>\n",
       "      <td>0.956</td>\n",
       "      <td>1.081</td>\n",
       "      <td>0.0</td>\n",
       "      <td>0.0</td>\n",
       "      <td>9434.0</td>\n",
       "      <td>9434.0</td>\n",
       "      <td>9448.0</td>\n",
       "      <td>5880.0</td>\n",
       "      <td>1.0</td>\n",
       "    </tr>\n",
       "    <tr>\n",
       "      <th>sigma</th>\n",
       "      <td>0.959</td>\n",
       "      <td>0.023</td>\n",
       "      <td>0.917</td>\n",
       "      <td>1.005</td>\n",
       "      <td>0.0</td>\n",
       "      <td>0.0</td>\n",
       "      <td>8327.0</td>\n",
       "      <td>8317.0</td>\n",
       "      <td>8337.0</td>\n",
       "      <td>6063.0</td>\n",
       "      <td>1.0</td>\n",
       "    </tr>\n",
       "  </tbody>\n",
       "</table>\n",
       "</div>"
      ],
      "text/plain": [
       "        mean     sd  hpd_3%  hpd_97%  mcse_mean  mcse_sd  ess_mean  ess_sd  \\\n",
       "a      2.987  0.038   2.918    3.060        0.0      0.0    8042.0  8034.0   \n",
       "b      1.018  0.033   0.956    1.081        0.0      0.0    9434.0  9434.0   \n",
       "sigma  0.959  0.023   0.917    1.005        0.0      0.0    8327.0  8317.0   \n",
       "\n",
       "       ess_bulk  ess_tail  r_hat  \n",
       "a        8044.0    6472.0    1.0  \n",
       "b        9448.0    5880.0    1.0  \n",
       "sigma    8337.0    6063.0    1.0  "
      ]
     },
     "execution_count": 11,
     "metadata": {},
     "output_type": "execute_result"
    }
   ],
   "source": [
    "df_censored_regression = pm.summary(sample)\n",
    "df_censored_regression.loc[[\"a\", \"b\", \"sigma\"], :]"
   ]
  },
  {
   "cell_type": "code",
   "execution_count": 13,
   "metadata": {},
   "outputs": [
    {
     "data": {
      "image/png": "[encoded data removed]",
      "text/plain": [
       "<Figure size 432x288 with 1 Axes>"
      ]
     },
     "metadata": {},
     "output_type": "display_data"
    }
   ],
   "source": [
    "a_hat = df_censored_regression.loc[\"a\", \"mean\"]\n",
    "b_hat = df_censored_regression.loc[\"b\", \"mean\"]\n",
    "y_bayesian_pred = a_hat*x_obs + b_hat\n",
    "\n",
    "plt.scatter(x_obs, y_obs)\n",
    "plt.plot(x_obs, y_pred, color=\"red\", label=\"Simple linear regression\")\n",
    "plt.plot(x_obs, y_bayesian_pred, color=\"yellow\", label=\"Censored linear regression\")\n",
    "plt.legend()\n",
    "plt.title(\"Data\");"
   ]
  },
  {
   "cell_type": "markdown",
   "metadata": {},
   "source": [
    "We see clear improvement - the line isn't skewed towards these censored outliers. BUT, it took 5 minutes to calculate all of these values and it was only simple regression (with censored data). Such procedures in R take a fraction of seconds (but the underlying models are a little bit different: either Cox model or parametric models with some assumption on the hazard function (or on distribution in other words). In the latter models we simply maximize likelihood of the censored data (the contribution of the single observation is the density for non-censored observation or survival function for censored observation). This is very fast to compute and without a need for sampling like in Bayesian or Monte Carlo methods. \n",
    "\n",
    "This is example how we pay for a generality of the framweork. With bayesian probabilistic modeling framework we simply specify the process of generation of data and let sampler do the rest. There is no need for writing custom functions, calculating likelihood or expectations, optimizing the model etc. One way to maybe speed up the computations, but without changing the probabilistic formulation of the model would be to change the way we calculate these samples. We could do it with EM Expectation Maximization, which requires calculating expected likelihood based on the conditional distribution of hidden variables and then iteratively change the parameters to maximize it. It takes some time to calculate all of this, but it would be interesting to see if it's worth it."
   ]
  },
  {
   "cell_type": "markdown",
   "metadata": {},
   "source": [
    "## Accelerated failure time model\n",
    "\n",
    "Finally, let's try to fit a standard Accelerated Failure Time model. One issue is that the values of y are sometimes below y: this means that it can't be interpreted as time to survival (because time is never negative). To deal with it I exponeniated the $y$, fitted the model and then took logarithm of a prediction.\n",
    "\n",
    "More details about the parametric censored regression and python lifelines package can be found here:\n",
    "https://lifelines.readthedocs.io/en/latest/Survival%20Regression.html."
   ]
  },
  {
   "cell_type": "code",
   "execution_count": 48,
   "metadata": {},
   "outputs": [
    {
     "data": {
      "text/html": [
       "<div>\n",
       "<style scoped>\n",
       "    .dataframe tbody tr th:only-of-type {\n",
       "        vertical-align: middle;\n",
       "    }\n",
       "\n",
       "    .dataframe tbody tr th {\n",
       "        vertical-align: top;\n",
       "    }\n",
       "\n",
       "    .dataframe thead th {\n",
       "        text-align: right;\n",
       "    }\n",
       "</style>\n",
       "<table border=\"1\" class=\"dataframe\">\n",
       "  <thead>\n",
       "    <tr style=\"text-align: right;\">\n",
       "      <th></th>\n",
       "      <th>x</th>\n",
       "      <th>y</th>\n",
       "      <th>observed</th>\n",
       "    </tr>\n",
       "  </thead>\n",
       "  <tbody>\n",
       "    <tr>\n",
       "      <th>0</th>\n",
       "      <td>-1.085631</td>\n",
       "      <td>0.049503</td>\n",
       "      <td>1</td>\n",
       "    </tr>\n",
       "    <tr>\n",
       "      <th>1</th>\n",
       "      <td>0.997345</td>\n",
       "      <td>54.598150</td>\n",
       "      <td>0</td>\n",
       "    </tr>\n",
       "    <tr>\n",
       "      <th>2</th>\n",
       "      <td>0.282978</td>\n",
       "      <td>13.027807</td>\n",
       "      <td>1</td>\n",
       "    </tr>\n",
       "    <tr>\n",
       "      <th>3</th>\n",
       "      <td>-1.506295</td>\n",
       "      <td>0.010908</td>\n",
       "      <td>1</td>\n",
       "    </tr>\n",
       "    <tr>\n",
       "      <th>4</th>\n",
       "      <td>-0.578600</td>\n",
       "      <td>0.770356</td>\n",
       "      <td>1</td>\n",
       "    </tr>\n",
       "  </tbody>\n",
       "</table>\n",
       "</div>"
      ],
      "text/plain": [
       "          x          y  observed\n",
       "0 -1.085631   0.049503         1\n",
       "1  0.997345  54.598150         0\n",
       "2  0.282978  13.027807         1\n",
       "3 -1.506295   0.010908         1\n",
       "4 -0.578600   0.770356         1"
      ]
     },
     "execution_count": 48,
     "metadata": {},
     "output_type": "execute_result"
    }
   ],
   "source": [
    "observed_indicator = [0 if y == 4 else 1 for y in y_obs]\n",
    "df = pd.DataFrame({\"x\": x_obs, \"y\": np.exp(y_obs), \"observed\": observed_indicator})\n",
    "df.head()"
   ]
  },
  {
   "cell_type": "code",
   "execution_count": 74,
   "metadata": {},
   "outputs": [
    {
     "data": {
      "text/plain": [
       "<lifelines.LogNormalAFTFitter: fitted with 1000 total observations, 162 right-censored observations>"
      ]
     },
     "execution_count": 74,
     "metadata": {},
     "output_type": "execute_result"
    }
   ],
   "source": [
    "aft = LogNormalAFTFitter()\n",
    "aft.fit(df, duration_col='y', event_col='observed')"
   ]
  },
  {
   "cell_type": "code",
   "execution_count": 78,
   "metadata": {},
   "outputs": [],
   "source": [
    "y_aft_pred = aft.predict_expectation(df[[\"x\"]]).values\n",
    "y_aft_pred = np.log(y_aft_pred)"
   ]
  },
  {
   "cell_type": "code",
   "execution_count": 105,
   "metadata": {},
   "outputs": [
    {
     "data": {
      "image/png": "[encoded data removed]",
      "text/plain": [
       "<Figure size 432x288 with 1 Axes>"
      ]
     },
     "metadata": {},
     "output_type": "display_data"
    }
   ],
   "source": [
    "a_hat = df_censored_regression.loc[\"a\", \"mean\"]\n",
    "b_hat = df_censored_regression.loc[\"b\", \"mean\"]\n",
    "y_bayesian_pred = a_hat*x_obs + b_hat\n",
    "\n",
    "plt.scatter(x_obs, y_obs)\n",
    "plt.plot(x_obs, y_pred, color=\"red\", linewidth=2, label=\"Simple linear regression\")\n",
    "plt.plot(x_obs, y_bayesian_pred, color=\"yellow\", linewidth=2, label=\"Bayesian linear regression\")\n",
    "plt.plot(df[[\"x\"]], y_aft_pred, color=\"green\", linewidth=2, label=\"AFT model\")\n",
    "plt.legend()\n",
    "plt.title(\"Data\");\n",
    "plt.show()"
   ]
  },
  {
   "cell_type": "code",
   "execution_count": 103,
   "metadata": {},
   "outputs": [
    {
     "data": {
      "text/html": [
       "<div>\n",
       "<style scoped>\n",
       "    .dataframe tbody tr th:only-of-type {\n",
       "        vertical-align: middle;\n",
       "    }\n",
       "\n",
       "    .dataframe tbody tr th {\n",
       "        vertical-align: top;\n",
       "    }\n",
       "\n",
       "    .dataframe thead th {\n",
       "        text-align: right;\n",
       "    }\n",
       "</style>\n",
       "<table border=\"1\" class=\"dataframe\">\n",
       "  <tbody>\n",
       "    <tr>\n",
       "      <th>model</th>\n",
       "      <td>lifelines.LogNormalAFTFitter</td>\n",
       "    </tr>\n",
       "    <tr>\n",
       "      <th>duration col</th>\n",
       "      <td>'y'</td>\n",
       "    </tr>\n",
       "    <tr>\n",
       "      <th>event col</th>\n",
       "      <td>'observed'</td>\n",
       "    </tr>\n",
       "    <tr>\n",
       "      <th>number of observations</th>\n",
       "      <td>1000</td>\n",
       "    </tr>\n",
       "    <tr>\n",
       "      <th>number of events observed</th>\n",
       "      <td>838</td>\n",
       "    </tr>\n",
       "    <tr>\n",
       "      <th>log-likelihood</th>\n",
       "      <td>-1198.18</td>\n",
       "    </tr>\n",
       "    <tr>\n",
       "      <th>time fit was run</th>\n",
       "      <td>2020-03-12 19:42:22 UTC</td>\n",
       "    </tr>\n",
       "  </tbody>\n",
       "</table>\n",
       "</div><table border=\"1\" class=\"dataframe\">\n",
       "  <thead>\n",
       "    <tr style=\"text-align: right;\">\n",
       "      <th></th>\n",
       "      <th></th>\n",
       "      <th>coef</th>\n",
       "      <th>exp(coef)</th>\n",
       "      <th>se(coef)</th>\n",
       "      <th>coef lower 95%</th>\n",
       "      <th>coef upper 95%</th>\n",
       "      <th>exp(coef) lower 95%</th>\n",
       "      <th>exp(coef) upper 95%</th>\n",
       "      <th>z</th>\n",
       "      <th>p</th>\n",
       "      <th>-log2(p)</th>\n",
       "    </tr>\n",
       "  </thead>\n",
       "  <tbody>\n",
       "    <tr>\n",
       "      <th rowspan=\"2\" valign=\"top\">mu_</th>\n",
       "      <th>x</th>\n",
       "      <td>2.98</td>\n",
       "      <td>19.77</td>\n",
       "      <td>0.04</td>\n",
       "      <td>2.91</td>\n",
       "      <td>3.06</td>\n",
       "      <td>18.38</td>\n",
       "      <td>21.27</td>\n",
       "      <td>79.96</td>\n",
       "      <td>&lt;0.005</td>\n",
       "      <td>inf</td>\n",
       "    </tr>\n",
       "    <tr>\n",
       "      <th>_intercept</th>\n",
       "      <td>1.02</td>\n",
       "      <td>2.76</td>\n",
       "      <td>0.03</td>\n",
       "      <td>0.95</td>\n",
       "      <td>1.08</td>\n",
       "      <td>2.59</td>\n",
       "      <td>2.95</td>\n",
       "      <td>30.55</td>\n",
       "      <td>&lt;0.005</td>\n",
       "      <td>678.69</td>\n",
       "    </tr>\n",
       "    <tr>\n",
       "      <th>sigma_</th>\n",
       "      <th>_intercept</th>\n",
       "      <td>-0.04</td>\n",
       "      <td>0.96</td>\n",
       "      <td>0.02</td>\n",
       "      <td>-0.09</td>\n",
       "      <td>0.00</td>\n",
       "      <td>0.91</td>\n",
       "      <td>1.00</td>\n",
       "      <td>-1.82</td>\n",
       "      <td>0.07</td>\n",
       "      <td>3.85</td>\n",
       "    </tr>\n",
       "  </tbody>\n",
       "</table><div>\n",
       "<style scoped>\n",
       "    .dataframe tbody tr th:only-of-type {\n",
       "        vertical-align: middle;\n",
       "    }\n",
       "\n",
       "    .dataframe tbody tr th {\n",
       "        vertical-align: top;\n",
       "    }\n",
       "\n",
       "    .dataframe thead th {\n",
       "        text-align: right;\n",
       "    }\n",
       "</style>\n",
       "<table border=\"1\" class=\"dataframe\">\n",
       "  <tbody>\n",
       "    <tr>\n",
       "      <th>Log-likelihood ratio test</th>\n",
       "      <td>2224.03 on 1 df, -log2(p)=inf</td>\n",
       "    </tr>\n",
       "  </tbody>\n",
       "</table>\n",
       "</div>"
      ],
      "text/plain": [
       "<IPython.core.display.HTML object>"
      ]
     },
     "metadata": {},
     "output_type": "display_data"
    }
   ],
   "source": [
    "aft.print_summary()"
   ]
  },
  {
   "cell_type": "markdown",
   "metadata": {},
   "source": [
    "It seems that both Bayesian linear regression and AFT model worked pretty much the same. (coefficients of $2.98$ and $1.02$). The question now would be how to do reasoning about the quality of the model, uncertainty and hypotheses testing. For AFT there are standard sets of procedures to diagnose the model and test hypotheses, for custom baeysian model I would have to think about how to do it."
   ]
  }
 ],
 "metadata": {
  "kernelspec": {
   "display_name": "Python 3",
   "language": "python",
   "name": "python3"
  },
  "language_info": {
   "codemirror_mode": {
    "name": "ipython",
    "version": 3
   },
   "file_extension": ".py",
   "mimetype": "text/x-python",
   "name": "python",
   "nbconvert_exporter": "python",
   "pygments_lexer": "ipython3",
   "version": "3.6.9"
  }
 },
 "nbformat": 4,
 "nbformat_minor": 4
}
